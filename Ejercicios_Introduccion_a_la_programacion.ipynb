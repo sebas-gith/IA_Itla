{
 "cells": [
  {
   "cell_type": "markdown",
   "id": "5dc68be5-43e9-40f0-9bd3-9fe26f9e148b",
   "metadata": {},
   "source": [
    "# Programacion Estructurada"
   ]
  },
  {
   "cell_type": "markdown",
   "id": "e9bae68e-9bdc-4710-985f-c03bac155c9b",
   "metadata": {},
   "source": [
    "### 1.- Diseñe una solución que convierte cualquier número romano a decimal. "
   ]
  },
  {
   "cell_type": "code",
   "execution_count": 10,
   "id": "fcaf0c7a-28d3-4b77-b722-fe8e4bf8a018",
   "metadata": {},
   "outputs": [],
   "source": [
    "def convertirAEntero(S:str):\n",
    "    largo = len(S)\n",
    "    total = 0\n",
    "    dic = {\n",
    "        'I': 1,\n",
    "        'V': 5,\n",
    "        'X': 10,\n",
    "        'L': 50,\n",
    "        'C': 100,\n",
    "        'D': 500,\n",
    "        'M': 1000\n",
    "    }\n",
    "\n",
    "    for i in range(largo):\n",
    "        if i > 0 and dic[S[i]] > dic[S[i-1]]:\n",
    "            total += dic[S[i]]-dic[S[i-1]]-dic[S[i-1]]\n",
    "        else:\n",
    "            total += dic[S[i]]\n",
    "\n",
    "    return total\n",
    "    "
   ]
  },
  {
   "cell_type": "code",
   "execution_count": 11,
   "id": "e8317f7f-8278-49d5-a8cf-cd96a4edb9d4",
   "metadata": {},
   "outputs": [
    {
     "data": {
      "text/plain": [
       "34"
      ]
     },
     "execution_count": 11,
     "metadata": {},
     "output_type": "execute_result"
    }
   ],
   "source": [
    "convertirAEntero(\"XXXIV\")"
   ]
  },
  {
   "cell_type": "code",
   "execution_count": 20,
   "id": "881a984c-680a-4cc1-b8ba-9dc739142cfd",
   "metadata": {},
   "outputs": [
    {
     "data": {
      "text/plain": [
       "4"
      ]
     },
     "execution_count": 20,
     "metadata": {},
     "output_type": "execute_result"
    }
   ],
   "source": [
    "convertirAEntero(\"IV\")  "
   ]
  },
  {
   "cell_type": "code",
   "execution_count": 21,
   "id": "04915a37-2999-4706-8744-df850d2da03f",
   "metadata": {},
   "outputs": [
    {
     "data": {
      "text/plain": [
       "9"
      ]
     },
     "execution_count": 21,
     "metadata": {},
     "output_type": "execute_result"
    }
   ],
   "source": [
    "convertirAEntero(\"IX\")   "
   ]
  },
  {
   "cell_type": "code",
   "execution_count": 22,
   "id": "f3d65d1c-f3c1-4d97-a9c8-aa5c70b390de",
   "metadata": {},
   "outputs": [
    {
     "data": {
      "text/plain": [
       "3"
      ]
     },
     "execution_count": 22,
     "metadata": {},
     "output_type": "execute_result"
    }
   ],
   "source": [
    "convertirAEntero(\"III\")   "
   ]
  },
  {
   "cell_type": "code",
   "execution_count": 23,
   "id": "e486cd1f-09ff-4b60-b5a2-4499866e156f",
   "metadata": {},
   "outputs": [
    {
     "data": {
      "text/plain": [
       "58"
      ]
     },
     "execution_count": 23,
     "metadata": {},
     "output_type": "execute_result"
    }
   ],
   "source": [
    "convertirAEntero(\"LVIII\")"
   ]
  },
  {
   "cell_type": "code",
   "execution_count": 24,
   "id": "4a537d8a-0b5e-4a21-ac47-4793e55fab63",
   "metadata": {},
   "outputs": [
    {
     "data": {
      "text/plain": [
       "1994"
      ]
     },
     "execution_count": 24,
     "metadata": {},
     "output_type": "execute_result"
    }
   ],
   "source": [
    "convertirAEntero(\"MCMXCIV\")"
   ]
  },
  {
   "cell_type": "code",
   "execution_count": 25,
   "id": "c0224a07-2e74-4447-a991-58f33055c924",
   "metadata": {},
   "outputs": [
    {
     "data": {
      "text/plain": [
       "2024"
      ]
     },
     "execution_count": 25,
     "metadata": {},
     "output_type": "execute_result"
    }
   ],
   "source": [
    "convertirAEntero(\"MMXXIV\")  # 1000 + 1000 + 10 + 10 + 1 + 5 - 1 - 1"
   ]
  },
  {
   "cell_type": "markdown",
   "id": "07656c1d-65fc-445e-aa25-cb1d49601333",
   "metadata": {},
   "source": [
    "## Programación ORIENTADA A OBJETOS "
   ]
  },
  {
   "cell_type": "markdown",
   "id": "ad81bf72-8324-4188-af4c-556dc0d62e07",
   "metadata": {},
   "source": [
    "### 5.- Diseñe una clase que representa una torre de ajedrez con su color y su posición en el tablero, y que permita calcular sus posibles jugadas y comprobar si puede at\"acar a una ficha en una celda específica."
   ]
  },
  {
   "cell_type": "code",
   "execution_count": 110,
   "id": "f337a580-8345-44d2-9a6a-9ddf21476245",
   "metadata": {},
   "outputs": [],
   "source": [
    "class ChessRook:\n",
    "    def __init__(self, color : str, position : str):\n",
    "        self.color = color.lower()\n",
    "        self.position = position.upper()\n",
    "    \n",
    "    def CalculateMoves(self):\n",
    "        actual_row = self.position[1]\n",
    "        actual_column = self.position[0]\n",
    "\n",
    "        moves = []\n",
    "        \n",
    "        columns = \"ABCDFGH\"\n",
    "        for i in range(8):\n",
    "            if columns[i-1] != actual_column:\n",
    "                moves.append(f\"{actual_column}{i+1}\")\n",
    "\n",
    "        for i in range(7):\n",
    "            if i != columns.index(actual_column):\n",
    "                moves.append(f\"{columns[i]}{actual_row}\")\n",
    "\n",
    "        return moves\n",
    "\n",
    "    def canAttack(self, target :str):\n",
    "        target = target.upper()\n",
    "        s0, s1 = self.position[0], self.position[1]\n",
    "        tp0, tp1 = target[0], target[1]\n",
    "\n",
    "        return s1 == tp1 or s0 == tp0\n",
    "\n",
    "\n",
    "    def __str__(self):\n",
    "        moves = self.CalculateMoves()\n",
    "        return (\n",
    "            f\"Color: {self.color}\\n\"\n",
    "            f\"Posición: {self.position}\\n\"\n",
    "            f\"Posibles jugadas: {moves}\"\n",
    "        )"
   ]
  },
  {
   "cell_type": "code",
   "execution_count": 111,
   "id": "5959acb3-01b1-47fe-8ec2-d721e3dc8b2c",
   "metadata": {},
   "outputs": [],
   "source": [
    "torre = ChessRook(\"blanco\", \"D5\")"
   ]
  },
  {
   "cell_type": "code",
   "execution_count": 112,
   "id": "f29ce970-e12d-460a-b761-a97873889d0a",
   "metadata": {},
   "outputs": [
    {
     "name": "stdout",
     "output_type": "stream",
     "text": [
      "Color: blanco\n",
      "Posición: D5\n",
      "Posibles jugadas: ['D1', 'D2', 'D3', 'D4', 'D6', 'D7', 'D8', 'A5', 'B5', 'C5', 'F5', 'G5', 'H5']\n"
     ]
    }
   ],
   "source": [
    "print(torre)"
   ]
  },
  {
   "cell_type": "code",
   "execution_count": 113,
   "id": "a1ef79a4-0888-4cf9-9a18-76387b2111dc",
   "metadata": {},
   "outputs": [
    {
     "name": "stdout",
     "output_type": "stream",
     "text": [
      "¿Puede atacar en la celda E8?: False\n",
      "¿Puede atacar en la celda D8?: True\n"
     ]
    }
   ],
   "source": [
    "print(\"¿Puede atacar en la celda E8?:\", torre.canAttack(\"E8\"))  # Falso\n",
    "print(\"¿Puede atacar en la celda D8?:\", torre.canAttack(\"D8\"))  # Verdadero"
   ]
  },
  {
   "cell_type": "code",
   "execution_count": null,
   "id": "85c1011b-f15f-471a-b2b8-2c6ce6c51fda",
   "metadata": {},
   "outputs": [],
   "source": []
  }
 ],
 "metadata": {
  "kernelspec": {
   "display_name": "Python [conda env:base] *",
   "language": "python",
   "name": "conda-base-py"
  },
  "language_info": {
   "codemirror_mode": {
    "name": "ipython",
    "version": 3
   },
   "file_extension": ".py",
   "mimetype": "text/x-python",
   "name": "python",
   "nbconvert_exporter": "python",
   "pygments_lexer": "ipython3",
   "version": "3.13.5"
  }
 },
 "nbformat": 4,
 "nbformat_minor": 5
}
