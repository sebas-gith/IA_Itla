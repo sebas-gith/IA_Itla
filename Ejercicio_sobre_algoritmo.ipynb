{
 "cells": [
  {
   "cell_type": "markdown",
   "id": "f82585a5-27c2-4673-a73e-bdc968de98e3",
   "metadata": {},
   "source": [
    "# Ejercicios Sobre Algoritmos"
   ]
  },
  {
   "cell_type": "markdown",
   "id": "19f8753a-1e6c-446c-a4dd-e0328bc5ef54",
   "metadata": {},
   "source": [
    "## Bubble Sort"
   ]
  },
  {
   "cell_type": "code",
   "execution_count": 7,
   "id": "890a5e8a-0991-4211-9170-bb598746dcd4",
   "metadata": {},
   "outputs": [],
   "source": [
    "def bubbleSort(A):\n",
    "    n = len(A)\n",
    "    while True:\n",
    "        swapped = False\n",
    "        for i in range(n-1):\n",
    "            if A[i] > A[i+1]:\n",
    "                A[i], A[i+1] = A[i+1], A[i]\n",
    "                swapped = True\n",
    "        if not swapped:\n",
    "            break\n",
    "    return A"
   ]
  },
  {
   "cell_type": "code",
   "execution_count": 8,
   "id": "40c3a834-a61b-40fb-916a-fc15d2cc7af3",
   "metadata": {},
   "outputs": [
    {
     "data": {
      "text/plain": [
       "[3, 3, 4, 5, 6, 6, 9, 10, 23]"
      ]
     },
     "execution_count": 8,
     "metadata": {},
     "output_type": "execute_result"
    }
   ],
   "source": [
    "bubbleSort([3,5,6,23,6,3,4,9,10])"
   ]
  },
  {
   "cell_type": "code",
   "execution_count": 10,
   "id": "60392b92-3965-485e-ad4b-b1e6bcdb510f",
   "metadata": {},
   "outputs": [
    {
     "data": {
      "text/plain": [
       "[1, 2, 5, 8, 9]"
      ]
     },
     "execution_count": 10,
     "metadata": {},
     "output_type": "execute_result"
    }
   ],
   "source": [
    "bubbleSort([5, 2, 8, 1, 9])"
   ]
  },
  {
   "cell_type": "code",
   "execution_count": 21,
   "id": "0dfed39d-65ee-4455-bccb-ebf5bd24ee12",
   "metadata": {
    "scrolled": true
   },
   "outputs": [
    {
     "data": {
      "text/plain": [
       "[-3, -1, 0, 4, 7]"
      ]
     },
     "execution_count": 21,
     "metadata": {},
     "output_type": "execute_result"
    }
   ],
   "source": [
    "bubbleSort([-3, 0, 7, -1, 4])"
   ]
  },
  {
   "cell_type": "code",
   "execution_count": 22,
   "id": "6feef470-cfd1-4cf7-a519-7a3db1158da4",
   "metadata": {},
   "outputs": [
    {
     "data": {
      "text/plain": [
       "[2, 2, 4, 4, 5, 8]"
      ]
     },
     "execution_count": 22,
     "metadata": {},
     "output_type": "execute_result"
    }
   ],
   "source": [
    "bubbleSort([4, 2, 5, 2, 8, 4])"
   ]
  },
  {
   "cell_type": "markdown",
   "id": "d1134b62-90d0-4165-b92e-0b4cbb4f1fb2",
   "metadata": {},
   "source": [
    "## Binary Search"
   ]
  },
  {
   "cell_type": "code",
   "execution_count": 23,
   "id": "e02b2504-2f67-45ed-a253-39a0a1e5ee2b",
   "metadata": {},
   "outputs": [],
   "source": [
    "def binarySearch(A, T):\n",
    "    L = 0\n",
    "    R = len(A) - 1\n",
    "    \n",
    "    while L <= R:\n",
    "        m = (L + R) // 2\n",
    "        \n",
    "        if A[m] < T:\n",
    "            L = m + 1\n",
    "        elif A[m] > T:\n",
    "            R = m - 1\n",
    "        else:\n",
    "            return m \n",
    "            \n",
    "    return \"unsuccessful\""
   ]
  },
  {
   "cell_type": "code",
   "execution_count": 16,
   "id": "02497e3a-6609-4370-8cff-853b442c8c30",
   "metadata": {},
   "outputs": [
    {
     "data": {
      "text/plain": [
       "4"
      ]
     },
     "execution_count": 16,
     "metadata": {},
     "output_type": "execute_result"
    }
   ],
   "source": [
    "binarySearch([1, 2, 3, 4, 5, 6, 7, 8, 9, 10], 5)"
   ]
  },
  {
   "cell_type": "code",
   "execution_count": 17,
   "id": "61985692-4b16-4e9c-bedf-f177cd70bb66",
   "metadata": {},
   "outputs": [
    {
     "data": {
      "text/plain": [
       "0"
      ]
     },
     "execution_count": 17,
     "metadata": {},
     "output_type": "execute_result"
    }
   ],
   "source": [
    "binarySearch([10, 20, 30, 40, 50], 10)"
   ]
  },
  {
   "cell_type": "code",
   "execution_count": 18,
   "id": "6c462d47-36fe-4a43-bfc8-c470d214a081",
   "metadata": {},
   "outputs": [
    {
     "data": {
      "text/plain": [
       "4"
      ]
     },
     "execution_count": 18,
     "metadata": {},
     "output_type": "execute_result"
    }
   ],
   "source": [
    "binarySearch([1, 3, 5, 7, 9], 9)"
   ]
  },
  {
   "cell_type": "code",
   "execution_count": 19,
   "id": "1f782b80-478a-4d9e-8987-996b653459a8",
   "metadata": {},
   "outputs": [
    {
     "data": {
      "text/plain": [
       "'unsuccessful'"
      ]
     },
     "execution_count": 19,
     "metadata": {},
     "output_type": "execute_result"
    }
   ],
   "source": [
    "binarySearch([2, 4, 6, 8, 10], 5)"
   ]
  },
  {
   "cell_type": "code",
   "execution_count": 20,
   "id": "f784dd4c-c87c-4a67-8275-731b6eb45724",
   "metadata": {},
   "outputs": [
    {
     "data": {
      "text/plain": [
       "0"
      ]
     },
     "execution_count": 20,
     "metadata": {},
     "output_type": "execute_result"
    }
   ],
   "source": [
    "binarySearch([42], 42)"
   ]
  },
  {
   "cell_type": "code",
   "execution_count": null,
   "id": "80cfd80f-3425-4952-a216-93116b52e9fb",
   "metadata": {},
   "outputs": [],
   "source": []
  }
 ],
 "metadata": {
  "kernelspec": {
   "display_name": "Python [conda env:base] *",
   "language": "python",
   "name": "conda-base-py"
  },
  "language_info": {
   "codemirror_mode": {
    "name": "ipython",
    "version": 3
   },
   "file_extension": ".py",
   "mimetype": "text/x-python",
   "name": "python",
   "nbconvert_exporter": "python",
   "pygments_lexer": "ipython3",
   "version": "3.13.5"
  }
 },
 "nbformat": 4,
 "nbformat_minor": 5
}
